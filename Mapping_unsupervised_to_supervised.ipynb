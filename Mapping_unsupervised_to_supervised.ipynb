{
  "cells": [
    {
      "metadata": {
        "trusted": true
      },
      "cell_type": "code",
      "source": "import pandas as pd\nimport numpy as np",
      "execution_count": 1,
      "outputs": []
    },
    {
      "metadata": {
        "trusted": true
      },
      "cell_type": "code",
      "source": "data=pd.read_csv('Financial Distress.csv')\ndata.head()",
      "execution_count": 2,
      "outputs": [
        {
          "output_type": "execute_result",
          "execution_count": 2,
          "data": {
            "text/html": "<div>\n<style scoped>\n    .dataframe tbody tr th:only-of-type {\n        vertical-align: middle;\n    }\n\n    .dataframe tbody tr th {\n        vertical-align: top;\n    }\n\n    .dataframe thead th {\n        text-align: right;\n    }\n</style>\n<table border=\"1\" class=\"dataframe\">\n  <thead>\n    <tr style=\"text-align: right;\">\n      <th></th>\n      <th>Company</th>\n      <th>Time</th>\n      <th>x1</th>\n      <th>x2</th>\n      <th>x3</th>\n      <th>x4</th>\n      <th>x5</th>\n      <th>x6</th>\n      <th>x7</th>\n      <th>x8</th>\n      <th>...</th>\n      <th>x75</th>\n      <th>x76</th>\n      <th>x77</th>\n      <th>x78</th>\n      <th>x79</th>\n      <th>x80</th>\n      <th>x81</th>\n      <th>x82</th>\n      <th>x83</th>\n      <th>Financial Distress</th>\n    </tr>\n  </thead>\n  <tbody>\n    <tr>\n      <th>0</th>\n      <td>1</td>\n      <td>1</td>\n      <td>1.2810</td>\n      <td>0.022934</td>\n      <td>0.87454</td>\n      <td>1.21640</td>\n      <td>0.060940</td>\n      <td>0.188270</td>\n      <td>0.52510</td>\n      <td>0.018854</td>\n      <td>...</td>\n      <td>27.07</td>\n      <td>26.102</td>\n      <td>16.000</td>\n      <td>16.0</td>\n      <td>0.2</td>\n      <td>22</td>\n      <td>0.060390</td>\n      <td>30</td>\n      <td>49</td>\n      <td>0</td>\n    </tr>\n    <tr>\n      <th>1</th>\n      <td>1</td>\n      <td>2</td>\n      <td>1.2700</td>\n      <td>0.006454</td>\n      <td>0.82067</td>\n      <td>1.00490</td>\n      <td>-0.014080</td>\n      <td>0.181040</td>\n      <td>0.62288</td>\n      <td>0.006423</td>\n      <td>...</td>\n      <td>31.31</td>\n      <td>30.194</td>\n      <td>17.000</td>\n      <td>16.0</td>\n      <td>0.4</td>\n      <td>22</td>\n      <td>0.010636</td>\n      <td>31</td>\n      <td>50</td>\n      <td>0</td>\n    </tr>\n    <tr>\n      <th>2</th>\n      <td>1</td>\n      <td>3</td>\n      <td>1.0529</td>\n      <td>-0.059379</td>\n      <td>0.92242</td>\n      <td>0.72926</td>\n      <td>0.020476</td>\n      <td>0.044865</td>\n      <td>0.43292</td>\n      <td>-0.081423</td>\n      <td>...</td>\n      <td>36.07</td>\n      <td>35.273</td>\n      <td>17.000</td>\n      <td>15.0</td>\n      <td>-0.2</td>\n      <td>22</td>\n      <td>-0.455970</td>\n      <td>32</td>\n      <td>51</td>\n      <td>0</td>\n    </tr>\n    <tr>\n      <th>3</th>\n      <td>1</td>\n      <td>4</td>\n      <td>1.1131</td>\n      <td>-0.015229</td>\n      <td>0.85888</td>\n      <td>0.80974</td>\n      <td>0.076037</td>\n      <td>0.091033</td>\n      <td>0.67546</td>\n      <td>-0.018807</td>\n      <td>...</td>\n      <td>39.80</td>\n      <td>38.377</td>\n      <td>17.167</td>\n      <td>16.0</td>\n      <td>5.6</td>\n      <td>22</td>\n      <td>-0.325390</td>\n      <td>33</td>\n      <td>52</td>\n      <td>1</td>\n    </tr>\n    <tr>\n      <th>4</th>\n      <td>2</td>\n      <td>1</td>\n      <td>1.0623</td>\n      <td>0.107020</td>\n      <td>0.81460</td>\n      <td>0.83593</td>\n      <td>0.199960</td>\n      <td>0.047800</td>\n      <td>0.74200</td>\n      <td>0.128030</td>\n      <td>...</td>\n      <td>27.07</td>\n      <td>26.102</td>\n      <td>16.000</td>\n      <td>16.0</td>\n      <td>0.2</td>\n      <td>29</td>\n      <td>1.251000</td>\n      <td>7</td>\n      <td>27</td>\n      <td>0</td>\n    </tr>\n  </tbody>\n</table>\n<p>5 rows × 86 columns</p>\n</div>",
            "text/plain": "   Company  Time      x1        x2       x3       x4        x5        x6  \\\n0        1     1  1.2810  0.022934  0.87454  1.21640  0.060940  0.188270   \n1        1     2  1.2700  0.006454  0.82067  1.00490 -0.014080  0.181040   \n2        1     3  1.0529 -0.059379  0.92242  0.72926  0.020476  0.044865   \n3        1     4  1.1131 -0.015229  0.85888  0.80974  0.076037  0.091033   \n4        2     1  1.0623  0.107020  0.81460  0.83593  0.199960  0.047800   \n\n        x7        x8         ...            x75     x76     x77   x78  x79  \\\n0  0.52510  0.018854         ...          27.07  26.102  16.000  16.0  0.2   \n1  0.62288  0.006423         ...          31.31  30.194  17.000  16.0  0.4   \n2  0.43292 -0.081423         ...          36.07  35.273  17.000  15.0 -0.2   \n3  0.67546 -0.018807         ...          39.80  38.377  17.167  16.0  5.6   \n4  0.74200  0.128030         ...          27.07  26.102  16.000  16.0  0.2   \n\n   x80       x81  x82  x83  Financial Distress  \n0   22  0.060390   30   49                   0  \n1   22  0.010636   31   50                   0  \n2   22 -0.455970   32   51                   0  \n3   22 -0.325390   33   52                   1  \n4   29  1.251000    7   27                   0  \n\n[5 rows x 86 columns]"
          },
          "metadata": {}
        }
      ]
    },
    {
      "metadata": {
        "trusted": true
      },
      "cell_type": "code",
      "source": "X=data.loc[:,'x1':'Financial Distress']",
      "execution_count": 3,
      "outputs": []
    },
    {
      "metadata": {
        "trusted": true
      },
      "cell_type": "code",
      "source": "y=data['Financial Distress']",
      "execution_count": 4,
      "outputs": []
    },
    {
      "metadata": {
        "trusted": true
      },
      "cell_type": "code",
      "source": "X.describe()",
      "execution_count": 5,
      "outputs": [
        {
          "output_type": "execute_result",
          "execution_count": 5,
          "data": {
            "text/html": "<div>\n<style scoped>\n    .dataframe tbody tr th:only-of-type {\n        vertical-align: middle;\n    }\n\n    .dataframe tbody tr th {\n        vertical-align: top;\n    }\n\n    .dataframe thead th {\n        text-align: right;\n    }\n</style>\n<table border=\"1\" class=\"dataframe\">\n  <thead>\n    <tr style=\"text-align: right;\">\n      <th></th>\n      <th>x1</th>\n      <th>x2</th>\n      <th>x3</th>\n      <th>x4</th>\n      <th>x5</th>\n      <th>x6</th>\n      <th>x7</th>\n      <th>x8</th>\n      <th>x9</th>\n      <th>x10</th>\n      <th>...</th>\n      <th>x75</th>\n      <th>x76</th>\n      <th>x77</th>\n      <th>x78</th>\n      <th>x79</th>\n      <th>x80</th>\n      <th>x81</th>\n      <th>x82</th>\n      <th>x83</th>\n      <th>Financial Distress</th>\n    </tr>\n  </thead>\n  <tbody>\n    <tr>\n      <th>count</th>\n      <td>3672.000000</td>\n      <td>3672.000000</td>\n      <td>3672.000000</td>\n      <td>3.672000e+03</td>\n      <td>3672.000000</td>\n      <td>3672.000000</td>\n      <td>3672.000000</td>\n      <td>3672.000000</td>\n      <td>3672.000000</td>\n      <td>3672.000000</td>\n      <td>...</td>\n      <td>3672.000000</td>\n      <td>3672.000000</td>\n      <td>3672.000000</td>\n      <td>3672.000000</td>\n      <td>3672.000000</td>\n      <td>3672.000000</td>\n      <td>3672.000000</td>\n      <td>3672.000000</td>\n      <td>3672.000000</td>\n      <td>3672.000000</td>\n    </tr>\n    <tr>\n      <th>mean</th>\n      <td>1.387820</td>\n      <td>0.129706</td>\n      <td>0.615769</td>\n      <td>8.681599e-01</td>\n      <td>0.154949</td>\n      <td>0.106717</td>\n      <td>0.784031</td>\n      <td>39.274361</td>\n      <td>0.332610</td>\n      <td>0.136263</td>\n      <td>...</td>\n      <td>91.920506</td>\n      <td>89.115908</td>\n      <td>17.780855</td>\n      <td>15.198708</td>\n      <td>-2.664305</td>\n      <td>19.714597</td>\n      <td>1.100488</td>\n      <td>13.122277</td>\n      <td>33.044935</td>\n      <td>0.037037</td>\n    </tr>\n    <tr>\n      <th>std</th>\n      <td>1.452926</td>\n      <td>0.120013</td>\n      <td>0.177904</td>\n      <td>5.719519e-01</td>\n      <td>0.124904</td>\n      <td>0.210555</td>\n      <td>1.033606</td>\n      <td>4305.688039</td>\n      <td>0.346135</td>\n      <td>0.138978</td>\n      <td>...</td>\n      <td>64.656504</td>\n      <td>64.349382</td>\n      <td>2.040152</td>\n      <td>2.828648</td>\n      <td>8.192663</td>\n      <td>7.508588</td>\n      <td>2.666733</td>\n      <td>9.465907</td>\n      <td>13.714563</td>\n      <td>0.188878</td>\n    </tr>\n    <tr>\n      <th>min</th>\n      <td>0.075170</td>\n      <td>-0.258080</td>\n      <td>0.016135</td>\n      <td>5.350000e-07</td>\n      <td>-0.269790</td>\n      <td>-0.627750</td>\n      <td>0.035160</td>\n      <td>-145000.000000</td>\n      <td>-3.611200</td>\n      <td>-0.318660</td>\n      <td>...</td>\n      <td>24.318000</td>\n      <td>23.776000</td>\n      <td>15.250000</td>\n      <td>12.000000</td>\n      <td>-20.200000</td>\n      <td>1.000000</td>\n      <td>-0.499220</td>\n      <td>1.000000</td>\n      <td>2.000000</td>\n      <td>0.000000</td>\n    </tr>\n    <tr>\n      <th>25%</th>\n      <td>0.952145</td>\n      <td>0.048701</td>\n      <td>0.501888</td>\n      <td>5.525575e-01</td>\n      <td>0.070001</td>\n      <td>-0.027754</td>\n      <td>0.436003</td>\n      <td>0.056185</td>\n      <td>0.157677</td>\n      <td>0.033820</td>\n      <td>...</td>\n      <td>39.800000</td>\n      <td>38.377000</td>\n      <td>16.000000</td>\n      <td>13.000000</td>\n      <td>-7.000000</td>\n      <td>14.000000</td>\n      <td>0.189912</td>\n      <td>6.000000</td>\n      <td>21.000000</td>\n      <td>0.000000</td>\n    </tr>\n    <tr>\n      <th>50%</th>\n      <td>1.183600</td>\n      <td>0.107530</td>\n      <td>0.638690</td>\n      <td>7.752450e-01</td>\n      <td>0.131830</td>\n      <td>0.104325</td>\n      <td>0.641875</td>\n      <td>0.135585</td>\n      <td>0.302610</td>\n      <td>0.107270</td>\n      <td>...</td>\n      <td>66.120000</td>\n      <td>59.471000</td>\n      <td>17.000000</td>\n      <td>14.500000</td>\n      <td>0.200000</td>\n      <td>20.000000</td>\n      <td>0.594765</td>\n      <td>11.000000</td>\n      <td>34.000000</td>\n      <td>0.000000</td>\n    </tr>\n    <tr>\n      <th>75%</th>\n      <td>1.506475</td>\n      <td>0.188685</td>\n      <td>0.749425</td>\n      <td>1.039000e+00</td>\n      <td>0.219570</td>\n      <td>0.231230</td>\n      <td>0.896773</td>\n      <td>0.273423</td>\n      <td>0.484035</td>\n      <td>0.210017</td>\n      <td>...</td>\n      <td>130.500000</td>\n      <td>132.400000</td>\n      <td>20.000000</td>\n      <td>16.000000</td>\n      <td>2.100000</td>\n      <td>26.000000</td>\n      <td>1.355050</td>\n      <td>17.000000</td>\n      <td>44.000000</td>\n      <td>0.000000</td>\n    </tr>\n    <tr>\n      <th>max</th>\n      <td>51.954000</td>\n      <td>0.749410</td>\n      <td>0.967900</td>\n      <td>6.835600e+00</td>\n      <td>0.858540</td>\n      <td>0.929550</td>\n      <td>38.836000</td>\n      <td>209000.000000</td>\n      <td>3.810200</td>\n      <td>0.769620</td>\n      <td>...</td>\n      <td>227.500000</td>\n      <td>214.500000</td>\n      <td>22.000000</td>\n      <td>22.000000</td>\n      <td>8.600000</td>\n      <td>37.000000</td>\n      <td>128.400000</td>\n      <td>49.000000</td>\n      <td>74.000000</td>\n      <td>1.000000</td>\n    </tr>\n  </tbody>\n</table>\n<p>8 rows × 84 columns</p>\n</div>",
            "text/plain": "                x1           x2           x3            x4           x5  \\\ncount  3672.000000  3672.000000  3672.000000  3.672000e+03  3672.000000   \nmean      1.387820     0.129706     0.615769  8.681599e-01     0.154949   \nstd       1.452926     0.120013     0.177904  5.719519e-01     0.124904   \nmin       0.075170    -0.258080     0.016135  5.350000e-07    -0.269790   \n25%       0.952145     0.048701     0.501888  5.525575e-01     0.070001   \n50%       1.183600     0.107530     0.638690  7.752450e-01     0.131830   \n75%       1.506475     0.188685     0.749425  1.039000e+00     0.219570   \nmax      51.954000     0.749410     0.967900  6.835600e+00     0.858540   \n\n                x6           x7             x8           x9          x10  \\\ncount  3672.000000  3672.000000    3672.000000  3672.000000  3672.000000   \nmean      0.106717     0.784031      39.274361     0.332610     0.136263   \nstd       0.210555     1.033606    4305.688039     0.346135     0.138978   \nmin      -0.627750     0.035160 -145000.000000    -3.611200    -0.318660   \n25%      -0.027754     0.436003       0.056185     0.157677     0.033820   \n50%       0.104325     0.641875       0.135585     0.302610     0.107270   \n75%       0.231230     0.896773       0.273423     0.484035     0.210017   \nmax       0.929550    38.836000  209000.000000     3.810200     0.769620   \n\n              ...                  x75          x76          x77          x78  \\\ncount         ...          3672.000000  3672.000000  3672.000000  3672.000000   \nmean          ...            91.920506    89.115908    17.780855    15.198708   \nstd           ...            64.656504    64.349382     2.040152     2.828648   \nmin           ...            24.318000    23.776000    15.250000    12.000000   \n25%           ...            39.800000    38.377000    16.000000    13.000000   \n50%           ...            66.120000    59.471000    17.000000    14.500000   \n75%           ...           130.500000   132.400000    20.000000    16.000000   \nmax           ...           227.500000   214.500000    22.000000    22.000000   \n\n               x79          x80          x81          x82          x83  \\\ncount  3672.000000  3672.000000  3672.000000  3672.000000  3672.000000   \nmean     -2.664305    19.714597     1.100488    13.122277    33.044935   \nstd       8.192663     7.508588     2.666733     9.465907    13.714563   \nmin     -20.200000     1.000000    -0.499220     1.000000     2.000000   \n25%      -7.000000    14.000000     0.189912     6.000000    21.000000   \n50%       0.200000    20.000000     0.594765    11.000000    34.000000   \n75%       2.100000    26.000000     1.355050    17.000000    44.000000   \nmax       8.600000    37.000000   128.400000    49.000000    74.000000   \n\n       Financial Distress  \ncount         3672.000000  \nmean             0.037037  \nstd              0.188878  \nmin              0.000000  \n25%              0.000000  \n50%              0.000000  \n75%              0.000000  \nmax              1.000000  \n\n[8 rows x 84 columns]"
          },
          "metadata": {}
        }
      ]
    },
    {
      "metadata": {
        "trusted": true
      },
      "cell_type": "code",
      "source": "#X.isnull().sum().sort_values(ascending=False) # No null values",
      "execution_count": null,
      "outputs": []
    },
    {
      "metadata": {
        "trusted": true
      },
      "cell_type": "code",
      "source": "# We have about 3.7% of anomalies\n\ny.value_counts()[1]/sum(y.value_counts())",
      "execution_count": 13,
      "outputs": [
        {
          "output_type": "execute_result",
          "execution_count": 13,
          "data": {
            "text/plain": "0.037037037037037035"
          },
          "metadata": {}
        }
      ]
    },
    {
      "metadata": {
        "trusted": true
      },
      "cell_type": "code",
      "source": "y.value_counts()",
      "execution_count": 14,
      "outputs": [
        {
          "output_type": "execute_result",
          "execution_count": 14,
          "data": {
            "text/plain": "0    3536\n1     136\nName: Financial Distress, dtype: int64"
          },
          "metadata": {}
        }
      ]
    },
    {
      "metadata": {
        "trusted": true
      },
      "cell_type": "code",
      "source": "from sklearn.ensemble import IsolationForest\n# define % of anomalies\nanomalies_ratio = 0.037\n\nif_sk = IsolationForest(n_estimators = 20, \n                        max_samples = 256,\n                        contamination = anomalies_ratio, \n                        behaviour= \" new\", \n                        random_state = np.random.RandomState(42))\nif_sk.fit(X)\ny_pred = if_sk.predict(X)\ny_pred = [1 if x == -1 else 0 for x in y_pred]",
      "execution_count": 49,
      "outputs": []
    },
    {
      "metadata": {
        "trusted": true
      },
      "cell_type": "code",
      "source": "from sklearn.metrics import confusion_matrix\nconfusion_matrix(y, y_pred)",
      "execution_count": 50,
      "outputs": [
        {
          "output_type": "execute_result",
          "execution_count": 50,
          "data": {
            "text/plain": "array([[3422,  114],\n       [ 114,   22]])"
          },
          "metadata": {}
        }
      ]
    },
    {
      "metadata": {
        "trusted": true
      },
      "cell_type": "code",
      "source": "from sklearn.metrics import recall_score\nrecall_score(y, y_pred)",
      "execution_count": 20,
      "outputs": [
        {
          "output_type": "execute_result",
          "execution_count": 20,
          "data": {
            "text/plain": "0.16176470588235295"
          },
          "metadata": {}
        }
      ]
    },
    {
      "metadata": {
        "trusted": true
      },
      "cell_type": "code",
      "source": "if_sk1 = IsolationForest(n_estimators=200, max_samples=256, contamination=float(.12), \\\n                        max_features=1.0, bootstrap=False, n_jobs=-1, random_state=42,behaviour='new', verbose=0)\nif_sk1.fit(X)\ny_pred1 = if_sk1.predict(X)\ny_pred1 = [1 if x == -1 else 0 for x in y_pred1]\nfrom sklearn.metrics import confusion_matrix\nprint(confusion_matrix(y, y_pred1))\nfrom sklearn.metrics import recall_score\nprint(recall_score(y, y_pred1))",
      "execution_count": 84,
      "outputs": [
        {
          "output_type": "stream",
          "text": "[[3156  380]\n [  75   61]]\n0.4485294117647059\n",
          "name": "stdout"
        }
      ]
    },
    {
      "metadata": {
        "trusted": true
      },
      "cell_type": "markdown",
      "source": "59\n61"
    },
    {
      "metadata": {
        "trusted": true
      },
      "cell_type": "code",
      "source": "scores = if_sk1.decision_function(X)",
      "execution_count": 87,
      "outputs": []
    },
    {
      "metadata": {
        "trusted": true
      },
      "cell_type": "code",
      "source": "y_pred2=[1 if x<0 else 0 for x in scores]# zero threshold which is by default is giving best results",
      "execution_count": 155,
      "outputs": []
    },
    {
      "metadata": {
        "trusted": true
      },
      "cell_type": "code",
      "source": "from sklearn.metrics import confusion_matrix\nprint(confusion_matrix(y, y_pred2))\nfrom sklearn.metrics import recall_score\nprint(recall_score(y, y_pred2))",
      "execution_count": 156,
      "outputs": [
        {
          "output_type": "stream",
          "text": "[[3156  380]\n [  75   61]]\n0.4485294117647059\n",
          "name": "stdout"
        }
      ]
    },
    {
      "metadata": {
        "trusted": true
      },
      "cell_type": "code",
      "source": "import matplotlib.pyplot as plt\nplt.figure(figsize=(12, 8))\nplt.hist(scores, bins=50);",
      "execution_count": 91,
      "outputs": [
        {
          "output_type": "display_data",
          "data": {
            "image/png": "[encoded data removed]",
            "text/plain": "<Figure size 864x576 with 1 Axes>"
          },
          "metadata": {
            "needs_background": "light"
          }
        }
      ]
    },
    {
      "metadata": {
        "trusted": true
      },
      "cell_type": "code",
      "source": "",
      "execution_count": null,
      "outputs": []
    },
    {
      "metadata": {
        "trusted": true
      },
      "cell_type": "code",
      "source": "",
      "execution_count": null,
      "outputs": []
    },
    {
      "metadata": {
        "trusted": true
      },
      "cell_type": "code",
      "source": "",
      "execution_count": null,
      "outputs": []
    },
    {
      "metadata": {
        "trusted": true
      },
      "cell_type": "code",
      "source": "",
      "execution_count": null,
      "outputs": []
    },
    {
      "metadata": {
        "trusted": true
      },
      "cell_type": "code",
      "source": "",
      "execution_count": null,
      "outputs": []
    },
    {
      "metadata": {
        "trusted": true
      },
      "cell_type": "code",
      "source": "",
      "execution_count": null,
      "outputs": []
    },
    {
      "metadata": {
        "trusted": true
      },
      "cell_type": "code",
      "source": "",
      "execution_count": null,
      "outputs": []
    }
  ],
  "metadata": {
    "kernelspec": {
      "name": "python36",
      "display_name": "Python 3.6",
      "language": "python"
    },
    "language_info": {
      "mimetype": "text/x-python",
      "nbconvert_exporter": "python",
      "name": "python",
      "pygments_lexer": "ipython3",
      "version": "3.6.6",
      "file_extension": ".py",
      "codemirror_mode": {
        "version": 3,
        "name": "ipython"
      }
    }
  },
  "nbformat": 4,
  "nbformat_minor": 2
}